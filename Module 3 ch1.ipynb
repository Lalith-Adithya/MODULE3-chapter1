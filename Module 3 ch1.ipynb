{
 "cells": [
  {
   "cell_type": "code",
   "execution_count": 9,
   "metadata": {},
   "outputs": [
    {
     "name": "stdout",
     "output_type": "stream",
     "text": [
      "Enter the First number=16\n",
      "Enter the Second number=12\n",
      "GCD or HCF is  4\n"
     ]
    }
   ],
   "source": [
    "#Program to find Greatest Common Factor\n",
    "a=int(input(\"Enter the First number=\"))\n",
    "b=int(input(\"Enter the Second number=\"))\n",
    "while a!=b:\n",
    "    if a>b:\n",
    "        a=a-b\n",
    "    else:\n",
    "        b=b-a\n",
    "print(\"GCD or HCF is \",a)"
   ]
  },
  {
   "cell_type": "code",
   "execution_count": 10,
   "metadata": {},
   "outputs": [
    {
     "name": "stdout",
     "output_type": "stream",
     "text": [
      "Input a word to reverse:  Computer Science\n",
      "ecneicS retupmoC \n",
      "\n"
     ]
    }
   ],
   "source": [
    "#Accept a word and reverse it\n",
    "word = input(\"Input a word to reverse: \")\n",
    "\n",
    "for char in range(len(word) - 1, -1, -1):\n",
    "  print(word[char], end=\"\")\n",
    "print(\"\\n\")\n"
   ]
  },
  {
   "cell_type": "code",
   "execution_count": 11,
   "metadata": {},
   "outputs": [
    {
     "name": "stdout",
     "output_type": "stream",
     "text": [
      "Enter the number till where you have to count the series:10\n",
      "Total number of even numbers= 5  Total number of odd numbers= 5\n"
     ]
    }
   ],
   "source": [
    "#count the even and odd number of the series\n",
    "n=int(input(\"Enter the number till where you have to count the series:\"))\n",
    "e,o=0,0\n",
    "for i in range(0,n):\n",
    "    if i%2==0:\n",
    "        e=e+1\n",
    "    else:\n",
    "        o=o+1\n",
    "print(\"Total number of even numbers=\",e,\" Total number of odd numbers=\",o)"
   ]
  },
  {
   "cell_type": "code",
   "execution_count": 8,
   "metadata": {},
   "outputs": [
    {
     "name": "stdout",
     "output_type": "stream",
     "text": [
      "  1\n",
      "  2\n",
      "  4\n",
      "  5\n"
     ]
    }
   ],
   "source": [
    "#Program to print 0-6 exceot 3 and 6\n",
    "for i in range(0,6):\n",
    "    if i%3!=0:\n",
    "        print(\" \",i)"
   ]
  },
  {
   "cell_type": "code",
   "execution_count": null,
   "metadata": {},
   "outputs": [],
   "source": []
  }
 ],
 "metadata": {
  "kernelspec": {
   "display_name": "Python 3",
   "language": "python",
   "name": "python3"
  },
  "language_info": {
   "codemirror_mode": {
    "name": "ipython",
    "version": 3
   },
   "file_extension": ".py",
   "mimetype": "text/x-python",
   "name": "python",
   "nbconvert_exporter": "python",
   "pygments_lexer": "ipython3",
   "version": "3.8.3"
  }
 },
 "nbformat": 4,
 "nbformat_minor": 4
}
